{
 "cells": [
  {
   "cell_type": "markdown",
   "metadata": {},
   "source": [
    "# 单样本率的检验"
   ]
  },
  {
   "cell_type": "markdown",
   "metadata": {},
   "source": [
    "215名病人中39名被观测到患有哮喘，然后有人对“随机病人”患有哮喘的概率是0.15这个假设做检验。  "
   ]
  },
  {
   "cell_type": "code",
   "execution_count": 1,
   "metadata": {},
   "outputs": [
    {
     "data": {
      "text/plain": [
       "\n",
       "\t1-sample proportions test with continuity correction\n",
       "\n",
       "data:  39 out of 215, null probability 0.15\n",
       "X-squared = 1.425, df = 1, p-value = 0.2326\n",
       "alternative hypothesis: true p is not equal to 0.15\n",
       "95 percent confidence interval:\n",
       " 0.1335937 0.2408799\n",
       "sample estimates:\n",
       "        p \n",
       "0.1813953 \n"
      ]
     },
     "metadata": {},
     "output_type": "display_data"
    }
   ],
   "source": [
    "prop.test(39,215,0.15)"
   ]
  },
  {
   "cell_type": "markdown",
   "metadata": {},
   "source": [
    "三个参数分别是阳性观测数，总数，以及参考概率值。最后一个参数如果没有设定的话，那么默认是0.5。  "
   ]
  },
  {
   "cell_type": "markdown",
   "metadata": {},
   "source": [
    "从当前的结果中得到的结论是无差别（P>0.05），而且在95%置信区间里可以看出范围包含了0.15，所以也可认为无差别。  "
   ]
  },
  {
   "cell_type": "markdown",
   "metadata": {},
   "source": [
    "## 二项分布检验"
   ]
  },
  {
   "cell_type": "markdown",
   "metadata": {},
   "source": [
    "能得到精确的检验概率，所以一般prop.test()应用更广泛。  "
   ]
  },
  {
   "cell_type": "code",
   "execution_count": 2,
   "metadata": {
    "scrolled": false
   },
   "outputs": [
    {
     "data": {
      "text/plain": [
       "\n",
       "\tExact binomial test\n",
       "\n",
       "data:  39 and 215\n",
       "number of successes = 39, number of trials = 215, p-value = 0.2135\n",
       "alternative hypothesis: true probability of success is not equal to 0.15\n",
       "95 percent confidence interval:\n",
       " 0.1322842 0.2395223\n",
       "sample estimates:\n",
       "probability of success \n",
       "             0.1813953 \n"
      ]
     },
     "metadata": {},
     "output_type": "display_data"
    }
   ],
   "source": [
    "binom.test(39,215,0.15)"
   ]
  },
  {
   "cell_type": "markdown",
   "metadata": {},
   "source": [
    "在检验水准为0.05水平下的置信区间其实是从0.025水平下的双侧检验中得到的。  \n",
    "就是说两侧分别是0.025和0.975的水平。  "
   ]
  },
  {
   "cell_type": "markdown",
   "metadata": {},
   "source": [
    "# 两独立样本比例检验"
   ]
  },
  {
   "cell_type": "markdown",
   "metadata": {},
   "source": [
    "函数prop.test()也能够用于比较两个或多个比例。  \n",
    "这种情况下它的参数就应该是两个向量，前一个向量里存放各组阳性观测数，后一个向量里是每组总数。"
   ]
  },
  {
   "cell_type": "markdown",
   "metadata": {},
   "source": [
    "继续上述案例，可以理解成两位医生手术成功率比较。  "
   ]
  },
  {
   "cell_type": "code",
   "execution_count": 3,
   "metadata": {},
   "outputs": [],
   "source": [
    "success<-c(9,4)"
   ]
  },
  {
   "cell_type": "code",
   "execution_count": 4,
   "metadata": {},
   "outputs": [],
   "source": [
    "total<-c(12,13)"
   ]
  },
  {
   "cell_type": "code",
   "execution_count": 5,
   "metadata": {},
   "outputs": [
    {
     "data": {
      "text/plain": [
       "\n",
       "\t2-sample test for equality of proportions with continuity correction\n",
       "\n",
       "data:  success out of total\n",
       "X-squared = 3.2793, df = 1, p-value = 0.07016\n",
       "alternative hypothesis: two.sided\n",
       "95 percent confidence interval:\n",
       " 0.01151032 0.87310506\n",
       "sample estimates:\n",
       "   prop 1    prop 2 \n",
       "0.7500000 0.3076923 \n"
      ]
     },
     "metadata": {},
     "output_type": "display_data"
    }
   ],
   "source": [
    "prop.test(success,total)"
   ]
  },
  {
   "cell_type": "markdown",
   "metadata": {},
   "source": [
    "R会将数据自动识别成两样本率的差异检验，求的是阳性结果的概率差异。"
   ]
  },
  {
   "cell_type": "markdown",
   "metadata": {},
   "source": [
    "然后我们得到的P值是0.07016，这个值与0.05很近，得到的是无差异的阴性结果。"
   ]
  },
  {
   "cell_type": "markdown",
   "metadata": {},
   "source": [
    "但是95%的置信区间为[0.011531032,0.87310506]这个范围没有包含0，  \n",
    "这个置信区间是比例之差的置信区间，它的结论是不可以认为两个医生的手术成功率是一样的阳性结果，  \n",
    "二者的差异是由置信区间和假设检验使用的是不同的近似方法导致的。  "
   ]
  },
  {
   "cell_type": "markdown",
   "metadata": {},
   "source": [
    "## Fisher 检验"
   ]
  },
  {
   "cell_type": "markdown",
   "metadata": {},
   "source": [
    "Fisher确切概率法的结果是在这个四格表里出现当前数据情况或者更有利于阳性结果的概率之和，  \n",
    "它会计算每一种情况的概率，然后再累加起来。  "
   ]
  },
  {
   "cell_type": "code",
   "execution_count": 6,
   "metadata": {},
   "outputs": [],
   "source": [
    "a<-matrix(c(9,4,3,9),nrow=2)"
   ]
  },
  {
   "cell_type": "code",
   "execution_count": 7,
   "metadata": {},
   "outputs": [
    {
     "data": {
      "text/html": [
       "<table>\n",
       "<caption>A matrix: 2 × 2 of type dbl</caption>\n",
       "<tbody>\n",
       "\t<tr><td>9</td><td>3</td></tr>\n",
       "\t<tr><td>4</td><td>9</td></tr>\n",
       "</tbody>\n",
       "</table>\n"
      ],
      "text/latex": [
       "A matrix: 2 × 2 of type dbl\n",
       "\\begin{tabular}{ll}\n",
       "\t 9 & 3\\\\\n",
       "\t 4 & 9\\\\\n",
       "\\end{tabular}\n"
      ],
      "text/markdown": [
       "\n",
       "A matrix: 2 × 2 of type dbl\n",
       "\n",
       "| 9 | 3 |\n",
       "| 4 | 9 |\n",
       "\n"
      ],
      "text/plain": [
       "     [,1] [,2]\n",
       "[1,] 9    3   \n",
       "[2,] 4    9   "
      ]
     },
     "metadata": {},
     "output_type": "display_data"
    }
   ],
   "source": [
    "a"
   ]
  },
  {
   "cell_type": "code",
   "execution_count": 8,
   "metadata": {},
   "outputs": [
    {
     "data": {
      "text/plain": [
       "\n",
       "\tFisher's Exact Test for Count Data\n",
       "\n",
       "data:  a\n",
       "p-value = 0.04718\n",
       "alternative hypothesis: true odds ratio is not equal to 1\n",
       "95 percent confidence interval:\n",
       "  0.9006803 57.2549701\n",
       "sample estimates:\n",
       "odds ratio \n",
       "  6.180528 \n"
      ]
     },
     "metadata": {},
     "output_type": "display_data"
    }
   ],
   "source": [
    "fisher.test(a)"
   ]
  },
  {
   "cell_type": "markdown",
   "metadata": {},
   "source": [
    "置信区间是比值比的结果，也就是计算(p1/(1-p1))/(p2/(1-p2))的区间，  \n",
    "是一个衡量Fisher检验中相关程度的指标，得到的结果可以跟1比较。  \n",
    "不过这里的结果同样和假设检验的结果相矛盾，原因同上。  "
   ]
  },
  {
   "cell_type": "markdown",
   "metadata": {},
   "source": [
    "## 卡方检验"
   ]
  },
  {
   "cell_type": "markdown",
   "metadata": {},
   "source": [
    "chisq.test()中的标准χ2检验需要矩阵类型的数据源。  \n",
    "而作为一个2*2表格来说，这个检验与prop.test()的结果是完全一致的。  "
   ]
  },
  {
   "cell_type": "code",
   "execution_count": 9,
   "metadata": {
    "scrolled": true
   },
   "outputs": [
    {
     "data": {
      "text/plain": [
       "\n",
       "\tPearson's Chi-squared test with Yates' continuity correction\n",
       "\n",
       "data:  a\n",
       "X-squared = 3.2793, df = 1, p-value = 0.07016\n"
      ]
     },
     "metadata": {},
     "output_type": "display_data"
    }
   ],
   "source": [
    "chisq.test(a)"
   ]
  },
  {
   "cell_type": "markdown",
   "metadata": {},
   "source": [
    "# 趋势检验-多组率"
   ]
  },
  {
   "cell_type": "markdown",
   "metadata": {},
   "source": [
    "有的时候你想要比较多于两个部分，而这些部分又是有序的分类，所以你想找到一个随着分组序号递增或者递减的趋势。"
   ]
  },
  {
   "cell_type": "markdown",
   "metadata": {},
   "source": [
    "一组数据记录了一组女性是否使用剖腹产生育孩子，以及对应产妇鞋子码数的数据，数据在R语言ISwR数据包里。"
   ]
  },
  {
   "cell_type": "markdown",
   "metadata": {},
   "source": [
    "# r × c表格"
   ]
  },
  {
   "cell_type": "markdown",
   "metadata": {},
   "source": [
    "为了分析行列都多于两个分类的表格数据，可以使用函数chisq.test()和 fisher.test()，  \n",
    "但是后者在每一格数字比较大而且超出两行或两列时的计算量非常大。"
   ]
  },
  {
   "cell_type": "markdown",
   "metadata": {},
   "source": [
    "# 参考"
   ]
  },
  {
   "cell_type": "markdown",
   "metadata": {},
   "source": [
    "[R语言系列第四期：③R语言表格数据率的比较](https://www.sohu.com/a/332349854_120098972)"
   ]
  },
  {
   "cell_type": "code",
   "execution_count": null,
   "metadata": {},
   "outputs": [],
   "source": []
  }
 ],
 "metadata": {
  "kernelspec": {
   "display_name": "R",
   "language": "R",
   "name": "ir"
  },
  "language_info": {
   "codemirror_mode": "r",
   "file_extension": ".r",
   "mimetype": "text/x-r-source",
   "name": "R",
   "pygments_lexer": "r",
   "version": "4.0.0"
  }
 },
 "nbformat": 4,
 "nbformat_minor": 4
}
