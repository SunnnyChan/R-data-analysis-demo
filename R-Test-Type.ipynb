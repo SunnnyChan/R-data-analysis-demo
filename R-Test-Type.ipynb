{
 "cells": [
  {
   "cell_type": "markdown",
   "metadata": {},
   "source": [
    "# 重抽样检验"
   ]
  },
  {
   "cell_type": "markdown",
   "metadata": {},
   "source": [
    "在统计学中，重抽样是指从观测数据中反复地抽取数据值，目标是评估一个统计量中的随机变异性。  "
   ]
  },
  {
   "cell_type": "markdown",
   "metadata": {},
   "source": [
    "# 多重检验"
   ]
  },
  {
   "cell_type": "markdown",
   "metadata": {},
   "source": [
    "统计学中有一句话:“如果拷问数据的时间足够长，那么它迟早会 招供。”  \n",
    "这意味着，如果我们能从足够多的视角去观察数据，并提出足够多的问题，几乎总是可以发现具有统计显著性的效果。  "
   ]
  },
  {
   "cell_type": "markdown",
   "metadata": {},
   "source": [
    "# t检验"
   ]
  },
  {
   "cell_type": "markdown",
   "metadata": {},
   "source": [
    "但是统计学家发现，**t 检验很好地近似了置换(随机混洗)分布**。  \n",
    "可以在十分常见的两样本比较(如A/B 测试)中使用， **只要样本中的数据是数值型的**。 "
   ]
  },
  {
   "cell_type": "markdown",
   "metadata": {},
   "source": [
    "  "
   ]
  },
  {
   "cell_type": "markdown",
   "metadata": {},
   "source": [
    "# 卡方检验"
   ]
  },
  {
   "cell_type": "markdown",
   "metadata": {},
   "source": [
    "# F 检验"
   ]
  },
  {
   "cell_type": "markdown",
   "metadata": {},
   "source": [
    "# 方差分析"
   ]
  },
  {
   "cell_type": "markdown",
   "metadata": {},
   "source": [
    "ANOVA，analysis of variance  \n",
    "方差分析是一种检验多个组之间统计显著性差异的统计学方法。  "
   ]
  },
  {
   "cell_type": "markdown",
   "metadata": {},
   "source": [
    "# MBA"
   ]
  },
  {
   "cell_type": "markdown",
   "metadata": {},
   "source": [
    "多臂老虎机算法(multi-arm bandit algorithm)是一种检验方法，尤其适用于 Web 测试。"
   ]
  },
  {
   "cell_type": "code",
   "execution_count": null,
   "metadata": {},
   "outputs": [],
   "source": []
  }
 ],
 "metadata": {
  "kernelspec": {
   "display_name": "R",
   "language": "R",
   "name": "ir"
  },
  "language_info": {
   "codemirror_mode": "r",
   "file_extension": ".r",
   "mimetype": "text/x-r-source",
   "name": "R",
   "pygments_lexer": "r",
   "version": "4.0.0"
  }
 },
 "nbformat": 4,
 "nbformat_minor": 4
}
